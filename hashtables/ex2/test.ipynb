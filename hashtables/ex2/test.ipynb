{
 "cells": [
  {
   "cell_type": "code",
   "execution_count": 1,
   "metadata": {},
   "outputs": [],
   "source": [
    "from hashtables import (HashTable,\n",
    "                        hash_table_insert,\n",
    "                        hash_table_remove,\n",
    "                        hash_table_retrieve,\n",
    "                        hash_table_resize)\n",
    "\n",
    "\n",
    "class Ticket:\n",
    "    def __init__(self, source, destination):\n",
    "        self.source = source\n",
    "        self.destination = destination"
   ]
  },
  {
   "cell_type": "code",
   "execution_count": 2,
   "metadata": {},
   "outputs": [],
   "source": [
    "ticket_1 = Ticket(\"NONE\", \"PDX\")\n",
    "ticket_2 = Ticket(\"PDX\", \"DCA\")\n",
    "ticket_3 = Ticket(\"DCA\", \"NONE\")\n",
    "\n",
    "tickets = [ticket_1, ticket_2, ticket_3]"
   ]
  },
  {
   "cell_type": "code",
   "execution_count": 12,
   "metadata": {},
   "outputs": [],
   "source": [
    "ht = HashTable(3)\n",
    "route = []\n",
    "\n",
    "# Enter each ticket into a hashtable\n",
    "for ticket in tickets:\n",
    "    hash_table_insert(ht, ticket.source, ticket.destination)"
   ]
  },
  {
   "cell_type": "code",
   "execution_count": 13,
   "metadata": {},
   "outputs": [],
   "source": [
    "# Find first flight\n",
    "leaving = \"NONE\"\n",
    "going = hash_table_retrieve(ht, leaving)\n",
    "\n",
    "while going is not \"NONE\":\n",
    "    route.append(going)\n",
    "    \n",
    "    # You're now leaving from where you arrived\n",
    "    leaving = going\n",
    "    going = hash_table_retrieve(ht, leaving)"
   ]
  },
  {
   "cell_type": "code",
   "execution_count": 14,
   "metadata": {},
   "outputs": [
    {
     "data": {
      "text/plain": [
       "['PDX', 'DCA']"
      ]
     },
     "execution_count": 14,
     "metadata": {},
     "output_type": "execute_result"
    }
   ],
   "source": [
    "route"
   ]
  },
  {
   "cell_type": "code",
   "execution_count": null,
   "metadata": {},
   "outputs": [],
   "source": []
  }
 ],
 "metadata": {
  "kernelspec": {
   "display_name": "Python 3",
   "language": "python",
   "name": "python3"
  },
  "language_info": {
   "codemirror_mode": {
    "name": "ipython",
    "version": 3
   },
   "file_extension": ".py",
   "mimetype": "text/x-python",
   "name": "python",
   "nbconvert_exporter": "python",
   "pygments_lexer": "ipython3",
   "version": "3.7.3"
  }
 },
 "nbformat": 4,
 "nbformat_minor": 2
}
