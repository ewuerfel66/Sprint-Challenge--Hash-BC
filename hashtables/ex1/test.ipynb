{
 "cells": [
  {
   "cell_type": "code",
   "execution_count": 1,
   "metadata": {},
   "outputs": [],
   "source": [
    "from hashtables import (HashTable,\n",
    "                        hash_table_insert,\n",
    "                        hash_table_remove,\n",
    "                        hash_table_retrieve,\n",
    "                        hash_table_resize)"
   ]
  },
  {
   "cell_type": "code",
   "execution_count": 2,
   "metadata": {},
   "outputs": [],
   "source": [
    "ht = HashTable(16)\n",
    "weights = [4, 6, 10, 15, 16]\n",
    "limit = 21\n",
    "length = 5"
   ]
  },
  {
   "cell_type": "code",
   "execution_count": 10,
   "metadata": {},
   "outputs": [],
   "source": [
    "weights = [4, 4]\n",
    "limit = 8\n",
    "length = 2\n",
    "\n",
    "weight = 4\n",
    "diff = 4"
   ]
  },
  {
   "cell_type": "code",
   "execution_count": 4,
   "metadata": {},
   "outputs": [],
   "source": [
    "# Insert (weight, index) into hash table\n",
    "for i in range(length):\n",
    "    hash_table_insert(ht, weights[i], i)"
   ]
  },
  {
   "cell_type": "code",
   "execution_count": 13,
   "metadata": {},
   "outputs": [
    {
     "data": {
      "text/plain": [
       "[1, 0]"
      ]
     },
     "execution_count": 13,
     "metadata": {},
     "output_type": "execute_result"
    }
   ],
   "source": [
    "indices = []\n",
    "\n",
    "for i in range(length):\n",
    "    if weights[i] == weight:\n",
    "        indices.append(i)\n",
    "        \n",
    "indices.reverse()\n",
    "indices"
   ]
  },
  {
   "cell_type": "code",
   "execution_count": 7,
   "metadata": {},
   "outputs": [
    {
     "name": "stdout",
     "output_type": "stream",
     "text": [
      "[1, 1]\n"
     ]
    }
   ],
   "source": [
    "# Iterate through hash table\n",
    "for weight in weights:\n",
    "    # Find the counterweight\n",
    "    diff = limit - weight\n",
    "\n",
    "    # See if the counterpart exists in the ht\n",
    "    if hash_table_retrieve(ht, diff) != None:\n",
    "        # It does! Retrieve the values\n",
    "        indices = [hash_table_retrieve(ht, weight), hash_table_retrieve(ht, diff)]\n",
    "        \n",
    "        # Sort it\n",
    "        if indices[0] < indices[1]:\n",
    "            indices = [indices[1], indices[0]]\n",
    "        \n",
    "print(indices)"
   ]
  },
  {
   "cell_type": "code",
   "execution_count": 22,
   "metadata": {},
   "outputs": [
    {
     "data": {
      "text/plain": [
       "[1, 3]"
      ]
     },
     "execution_count": 22,
     "metadata": {},
     "output_type": "execute_result"
    }
   ],
   "source": [
    "weight = 6\n",
    "diff = 15\n",
    "\n",
    "[hash_table_retrieve(ht, weight), hash_table_retrieve(ht, diff)]"
   ]
  },
  {
   "cell_type": "code",
   "execution_count": null,
   "metadata": {},
   "outputs": [],
   "source": []
  }
 ],
 "metadata": {
  "kernelspec": {
   "display_name": "Python 3",
   "language": "python",
   "name": "python3"
  },
  "language_info": {
   "codemirror_mode": {
    "name": "ipython",
    "version": 3
   },
   "file_extension": ".py",
   "mimetype": "text/x-python",
   "name": "python",
   "nbconvert_exporter": "python",
   "pygments_lexer": "ipython3",
   "version": "3.7.3"
  }
 },
 "nbformat": 4,
 "nbformat_minor": 2
}
